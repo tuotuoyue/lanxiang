{
 "cells": [
  {
   "cell_type": "code",
   "execution_count": 67,
   "metadata": {
    "collapsed": false
   },
   "outputs": [],
   "source": [
    "f = open(\"menu_names.txt\",'r').read()\n",
    "out_types = open(\"types_names_html.txt\",'w')\n",
    "out_dishes = open(\"dishes_names_html.txt\",'w')\n",
    "names = f.split('\\r')\n",
    "types = names[:17]\n",
    "dishes = names[17:]"
   ]
  },
  {
   "cell_type": "code",
   "execution_count": 68,
   "metadata": {
    "collapsed": false
   },
   "outputs": [],
   "source": [
    "for i in range(len(types)):\n",
    "    out_types.write('\t\t\t\t\t\t\t<h3>' + types[i] +'</h3>\\n')\n",
    "out_types.close()"
   ]
  },
  {
   "cell_type": "code",
   "execution_count": 69,
   "metadata": {
    "collapsed": false
   },
   "outputs": [],
   "source": [
    "for j in range(len(dishes)):\n",
    "    out_dishes.write('\t\t\t\t\t\t\t<div class=\"post\">\\n'+\n",
    "                     '\t\t\t\t\t\t\t\t<div class=\"wrapper\">\\n'+\n",
    "                     '\t\t\t\t\t\t\t\t  <h5><a href=\"#\">'+ dishes[j] + '</a></h5>\\n' +\n",
    "                     '\t\t\t\t\t\t\t\t</div>\\n'+\n",
    "                     '\t\t\t\t\t\t\t</div>\\n')\n",
    "out_dishes.close()   "
   ]
  },
  {
   "cell_type": "code",
   "execution_count": null,
   "metadata": {
    "collapsed": true
   },
   "outputs": [],
   "source": []
  },
  {
   "cell_type": "code",
   "execution_count": null,
   "metadata": {
    "collapsed": true
   },
   "outputs": [],
   "source": []
  },
  {
   "cell_type": "code",
   "execution_count": null,
   "metadata": {
    "collapsed": true
   },
   "outputs": [],
   "source": []
  }
 ],
 "metadata": {
  "kernelspec": {
   "display_name": "Python 2",
   "language": "python",
   "name": "python2"
  },
  "language_info": {
   "codemirror_mode": {
    "name": "ipython",
    "version": 2
   },
   "file_extension": ".py",
   "mimetype": "text/x-python",
   "name": "python",
   "nbconvert_exporter": "python",
   "pygments_lexer": "ipython2",
   "version": "2.7.12"
  }
 },
 "nbformat": 4,
 "nbformat_minor": 0
}
